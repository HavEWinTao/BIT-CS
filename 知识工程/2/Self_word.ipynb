{
 "cells": [
  {
   "cell_type": "code",
   "execution_count": 9,
   "metadata": {},
   "outputs": [
    {
     "name": "stdout",
     "output_type": "stream",
     "text": [
      "\r\n",
      "\n"
     ]
    }
   ],
   "source": [
    "import codecs\n",
    "txt = codecs.open('data.txt',encoding='utf-8').readlines()\n",
    "out = codecs.open('out.txt','w','utf-8')\n",
    "for line in txt:\n",
    "    if line.split():\n",
    "        out.write(line)"
   ]
  },
  {
   "cell_type": "code",
   "execution_count": 11,
   "metadata": {},
   "outputs": [],
   "source": [
    "IN = codecs.open('out.txt',encoding='utf-8').readlines()\n",
    "OUT = codecs.open('word.txt','w','utf-8')\n",
    "for line in IN:\n",
    "    words = line.split()\n",
    "    for word in words:\n",
    "        if word.startswith(\"[\"):\n",
    "            word = word[1:]\n",
    "        elif \"]\" in word:\n",
    "            word = word[0:word.index(\"]\")+1]\n",
    "        temp = word.split(\"/\")\n",
    "        OUT.write(temp[0] + \" \")\n",
    "    OUT.write(\"\\n\")"
   ]
  },
  {
   "cell_type": "code",
   "execution_count": null,
   "metadata": {},
   "outputs": [],
   "source": []
  }
 ],
 "metadata": {
  "kernelspec": {
   "display_name": "Python 3",
   "language": "python",
   "name": "python3"
  },
  "language_info": {
   "codemirror_mode": {
    "name": "ipython",
    "version": 3
   },
   "file_extension": ".py",
   "mimetype": "text/x-python",
   "name": "python",
   "nbconvert_exporter": "python",
   "pygments_lexer": "ipython3",
   "version": "3.7.4"
  }
 },
 "nbformat": 4,
 "nbformat_minor": 2
}